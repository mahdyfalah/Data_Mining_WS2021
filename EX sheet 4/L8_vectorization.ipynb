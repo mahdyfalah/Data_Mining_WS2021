{
 "cells": [
  {
   "cell_type": "markdown",
   "metadata": {},
   "source": [
    "# Ilustration of Vector Space Model Vectorizers"
   ]
  },
  {
   "cell_type": "markdown",
   "metadata": {},
   "source": [
    "### 1. Data collection\n",
    "\n",
    "For this \"toy\" example, we consider a few sentences from the book \"A Tale of Two cities\" by Charles Dikens.\n",
    "\n",
    "- It was the best of times,\n",
    "- it was the worst of times,\n",
    "- it was the age of wisdom,\n",
    "- it was the age of foolishness,\n",
    "\n",
    "Each line will be considered as a separate document and the four lines as the whole collection. "
   ]
  },
  {
   "cell_type": "markdown",
   "metadata": {},
   "source": [
    "### 2. Preprocessing\n",
    "\n",
    "As preprocessing steps we apply tokenizing, lowercasing and removing punctuation. The vocabulary we get consists of the following 10 words:\n",
    "\n",
    "   - “it”\n",
    "   - “was”\n",
    "   - “the”\n",
    "   - “best”\n",
    "   - “of”\n",
    "   - “times”\n",
    "   - “worst”\n",
    "   - “age”\n",
    "   - “wisdom”\n",
    "   - “foolishness”\n"
   ]
  },
  {
   "cell_type": "code",
   "execution_count": null,
   "metadata": {},
   "outputs": [],
   "source": [
    "import string, nltk\n",
    "from nltk.tokenize import word_tokenize\n",
    "\n",
    "collection = [\n",
    "    \"It was the best of the times,\",\n",
    "    \"it was the worst of the times,\",\n",
    "    \"it was the age of  the wisdom,\",\n",
    "    \"it was the age of foolishness,\",\n",
    "]\n",
    "\n",
    "# removing punctuation\n",
    "coll_nopunct = [sent.translate(str.maketrans('', '', string.punctuation)) for sent in collection]\n",
    "\n",
    "# lowercasing \n",
    "coll_lower = [sent.lower() for sent in coll_nopunct]\n",
    "\n",
    "# tokenizing\n",
    "coll_ready = [' '.join(word_tokenize(sent)) for sent in coll_lower]\n",
    "\n",
    "# show the preprocessed collection matrix\n",
    "for i in coll_ready:\n",
    "    print(i)\n"
   ]
  },
  {
   "cell_type": "markdown",
   "metadata": {},
   "source": [
    "### 3. Vectorizers\n",
    "In this example we show the representation matrix using three common vectorizers, the binary vectorizer, the term frequency vectorizer, and the term frequency - inverse document frequency vectorizer."
   ]
  },
  {
   "cell_type": "code",
   "execution_count": null,
   "metadata": {},
   "outputs": [],
   "source": [
    "from sklearn.feature_extraction.text import CountVectorizer, TfidfTransformer\n",
    "\n",
    "# printing the collection vocabulary\n",
    "vec_binar = CountVectorizer(binary=True)\n",
    "X_binar = vec_binar.fit_transform(coll_ready)\n",
    "print(\"Collection vocabulary:\\n\", vec_binar.get_feature_names(), \"\\n\")\n",
    "\n",
    "# printing binary vectorizer matrix\n",
    "print(\"Binary vectorizer matrix:\\n\", X_binar.toarray(), \"\\n\")\n",
    "\n",
    "# printing tf vectorizer matrix\n",
    "vec_tf = CountVectorizer()\n",
    "X_tf = vec_tf.fit_transform(coll_ready)\n",
    "print(\"Term frequency vectorizer matrix:\\n\", X_tf.toarray(), \"\\n\")\n",
    "\n",
    "# printing tf-idf vectorizer matrix\n",
    "vec_tfidf = TfidfTransformer()\n",
    "X_tfidf = vec_tfidf.fit_transform(X_tf)\n",
    "print(\"Term frequency - inverse document frequency vectorizer matrix:\\n\", X_tfidf.toarray())\n"
   ]
  }
 ],
 "metadata": {
  "authors": [
   {
    "name": "ninhu"
   }
  ],
  "celltoolbar": "Tags",
  "kernelspec": {
   "display_name": "Python 3",
   "language": "python",
   "name": "python3"
  },
  "language_info": {
   "codemirror_mode": {
    "name": "ipython",
    "version": 3
   },
   "file_extension": ".py",
   "mimetype": "text/x-python",
   "name": "python",
   "nbconvert_exporter": "python",
   "pygments_lexer": "ipython3",
   "version": "3.8.9"
  }
 },
 "nbformat": 4,
 "nbformat_minor": 2
}
