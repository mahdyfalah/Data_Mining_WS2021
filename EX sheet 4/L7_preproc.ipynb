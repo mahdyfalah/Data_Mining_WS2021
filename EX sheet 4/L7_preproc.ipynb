{
 "cells": [
  {
   "cell_type": "markdown",
   "metadata": {},
   "source": [
    "# Common Text Preprocessing Steps"
   ]
  },
  {
   "cell_type": "markdown",
   "metadata": {},
   "source": [
    "### 1. Tokenization\n",
    "\n",
    "Splitting document in words and spacing out punctuation from words.\n"
   ]
  },
  {
   "cell_type": "code",
   "execution_count": 1,
   "metadata": {
    "tags": [
     "Tokenizing"
    ]
   },
   "outputs": [
    {
     "name": "stdout",
     "output_type": "stream",
     "text": [
      "Data Mining, Text Mining, and Machine Learning are probably the 3 most interesting subjects to learn in 2021 at the university! They utilize supervised and unsupervised algorithms to extract and infer knowledge from the data. It is estimated that more than 66.7 % (two-thirds) of the practicians use primarily Python for their tasks. \n",
      "\n",
      "['Data Mining, Text Mining, and Machine Learning are probably the 3 most interesting subjects to learn in 2021 at the university!', 'They utilize supervised and unsupervised algorithms to extract and infer knowledge from the data.', 'It is estimated that more than 66.7 % (two-thirds) of the practicians use primarily Python for their tasks.'] \n",
      "\n",
      "['Data', 'Mining', ',', 'Text', 'Mining', ',', 'and', 'Machine', 'Learning', 'are', 'probably', 'the', '3', 'most', 'interesting', 'subjects', 'to', 'learn', 'in', '2021', 'at', 'the', 'university', '!', 'They', 'utilize', 'supervised', 'and', 'unsupervised', 'algorithms', 'to', 'extract', 'and', 'infer', 'knowledge', 'from', 'the', 'data', '.', 'It', 'is', 'estimated', 'that', 'more', 'than', '66.7', '%', '(', 'two-thirds', ')', 'of', 'the', 'practicians', 'use', 'primarily', 'Python', 'for', 'their', 'tasks', '.']\n"
     ]
    }
   ],
   "source": [
    "import string, nltk\n",
    "from nltk.tokenize import sent_tokenize, word_tokenize\n",
    "\n",
    "# sample document that consists of a few sentences\n",
    "entry = \"Data Mining, Text Mining, and Machine Learning are probably the 3 most interesting \\\n",
    "subjects to learn in 2021 at the university! They utilize supervised and unsupervised algorithms \\\n",
    "to extract and infer knowledge from the data. It is estimated that more than 66.7 % (two-thirds) \\\n",
    "of the practicians use primarily Python for their tasks.\"\n",
    "\n",
    "# print the original document\n",
    "print(entry, \"\\n\")\n",
    "\n",
    "# tokenize and print the list of sentences\n",
    "sentences = sent_tokenize(entry)\n",
    "print(sentences, \"\\n\")\n",
    "\n",
    "# tokenize and print the list of words\n",
    "words = word_tokenize(entry)\n",
    "print(words)"
   ]
  },
  {
   "cell_type": "markdown",
   "metadata": {},
   "source": [
    "### 2. Lowercasing\n",
    "Converting a word to lower case to reduce dimensionality (NLP, Nlp, nlp, NlP, nlP, nLp, nlP, Nlp, nLP -> nlp)."
   ]
  },
  {
   "cell_type": "code",
   "execution_count": 2,
   "metadata": {
    "tags": [
     "Lowercasing"
    ]
   },
   "outputs": [
    {
     "name": "stdout",
     "output_type": "stream",
     "text": [
      "Data Mining, Text Mining, and Machine Learning are probably the 3 most interesting subjects to learn in 2021 at the university! They utilize supervised and unsupervised algorithms to extract and infer knowledge from the data. It is estimated that more than 66.7 % (two-thirds) of the practicians use primarily Python for their tasks. \n",
      "\n",
      "data mining, text mining, and machine learning are probably the 3 most interesting subjects to learn in 2021 at the university! they utilize supervised and unsupervised algorithms to extract and infer knowledge from the data. it is estimated that more than 66.7 % (two-thirds) of the practicians use primarily python for their tasks. \n",
      "\n",
      "DATA MINING, TEXT MINING, AND MACHINE LEARNING ARE PROBABLY THE 3 MOST INTERESTING SUBJECTS TO LEARN IN 2021 AT THE UNIVERSITY! THEY UTILIZE SUPERVISED AND UNSUPERVISED ALGORITHMS TO EXTRACT AND INFER KNOWLEDGE FROM THE DATA. IT IS ESTIMATED THAT MORE THAN 66.7 % (TWO-THIRDS) OF THE PRACTICIANS USE PRIMARILY PYTHON FOR THEIR TASKS. \n",
      "\n"
     ]
    }
   ],
   "source": [
    "# lowercasing \n",
    "entry_lower = entry.lower()\n",
    "\n",
    "# uppercasing\n",
    "entry_upper = entry.upper()\n",
    "\n",
    "# print the original document\n",
    "print(entry, \"\\n\")\n",
    "print(entry_lower, \"\\n\")\n",
    "print(entry_upper, \"\\n\")"
   ]
  },
  {
   "cell_type": "markdown",
   "metadata": {},
   "source": [
    "### 3. Stop words removal\n",
    "Stop words are very commonly used words (a, an, the, etc.) in the documents. These words do not really signify any importance as they do not help in distinguishing two documents."
   ]
  },
  {
   "cell_type": "code",
   "execution_count": 3,
   "metadata": {
    "tags": [
     "StopWordRemoval"
    ]
   },
   "outputs": [
    {
     "name": "stdout",
     "output_type": "stream",
     "text": [
      "Stop words of English language:\n",
      "\n",
      "{'so', 'where', 'only', \"mightn't\", \"you'll\", 'themselves', 'on', 's', 'aren', 'if', 'with', \"didn't\", 'needn', 'in', 'here', 'under', \"wasn't\", 'we', 'didn', 'up', 'their', 'the', 'can', 'me', 'itself', 'have', 've', \"she's\", 'they', 'those', 'be', 'to', 'from', 'all', 'just', 'further', 'himself', \"wouldn't\", 'not', 'against', 'our', \"weren't\", 'wouldn', 'what', 'is', 'do', \"that'll\", \"you'd\", 'but', 'through', 'll', 'after', 'most', 'had', 'won', 'out', 'ours', \"needn't\", 'own', 'him', 'shan', 'down', 'doing', 'shouldn', \"isn't\", 'his', 'for', 'into', 'couldn', 'again', 'it', 'don', 'ain', \"won't\", 'been', 'while', 'off', \"shan't\", 'she', 'now', 'nor', 'them', 'very', 'ma', 'd', 'isn', 'which', 'yourself', 'below', 'each', 'hers', 'has', 'and', 'its', 'whom', 'these', 're', \"hadn't\", \"aren't\", \"should've\", 'over', \"it's\", 'should', 'yours', 'or', 'some', 'such', 'am', 'haven', 'above', 'until', \"doesn't\", 'once', 'having', 'were', 'ourselves', 'herself', 'theirs', 'being', 'weren', 'an', \"mustn't\", 'more', 'why', 'did', \"shouldn't\", \"don't\", 'i', 'how', 'her', 'few', 'y', 'your', 'you', 'yourselves', 'there', 'both', 'during', 'any', 'my', 'm', 'than', 'wasn', 'at', 'hasn', 'myself', 'does', 'before', \"hasn't\", 'when', 'he', 'same', 'this', 'a', 'then', \"haven't\", 'no', 'mightn', 'by', 'hadn', 'because', 't', 'other', 'about', 'will', 'of', \"you've\", 'who', 'between', 'that', 'are', \"couldn't\", 'doesn', 'was', 'too', 'o', 'mustn', 'as', \"you're\"}\n"
     ]
    }
   ],
   "source": [
    "from nltk.corpus import stopwords \n",
    "from nltk.tokenize import word_tokenize\n",
    "\n",
    "# selecting and printing stop words of English \n",
    "stop = set(stopwords.words('english')) \n",
    "print(\"Stop words of English language:\\n\")\n",
    "print(stop)\n"
   ]
  },
  {
   "cell_type": "code",
   "execution_count": 4,
   "metadata": {
    "tags": [
     "StopWordRemoval"
    ]
   },
   "outputs": [
    {
     "name": "stdout",
     "output_type": "stream",
     "text": [
      "Original text:\n",
      "Data Mining, Text Mining, and Machine Learning are probably the 3 most interesting subjects to learn in 2021 at the university! They utilize supervised and unsupervised algorithms to extract and infer knowledge from the data. It is estimated that more than 66.7 % (two-thirds) of the practicians use primarily Python for their tasks. \n",
      "\n",
      "Text without stop words:\n",
      "Data Mining , Text Mining , Machine Learning probably 3 interesting subjects learn 2021 university ! They utilize supervised unsupervised algorithms extract infer knowledge data . It estimated 66.7 % ( two-thirds ) practicians use primarily Python tasks .\n"
     ]
    }
   ],
   "source": [
    "print(\"Original text:\")\n",
    "print(entry, \"\\n\")  \n",
    "\n",
    "# removing stop words\n",
    "words_no_stops = [w for w in words if not w in stop]\n",
    "\n",
    "# join together the filtered words to rebuild the initial sentence\n",
    "entry_no_stops = ' '.join(words_no_stops)\n",
    "\n",
    "print(\"Text without stop words:\")\n",
    "print(entry_no_stops)"
   ]
  },
  {
   "cell_type": "markdown",
   "metadata": {},
   "source": [
    "### 4. Punctuation and number removal\n",
    "Punctuation can be unuseful or even confusing for sometimes. The symbols are simply deleted. Numbers are either delted or replaced by some special symbol like # sign. "
   ]
  },
  {
   "cell_type": "code",
   "execution_count": 5,
   "metadata": {
    "tags": [
     "PunctuationRemoval"
    ]
   },
   "outputs": [
    {
     "name": "stdout",
     "output_type": "stream",
     "text": [
      "Original text:\n",
      "Data Mining, Text Mining, and Machine Learning are probably the 3 most interesting subjects to learn in 2021 at the university! They utilize supervised and unsupervised algorithms to extract and infer knowledge from the data. It is estimated that more than 66.7 % (two-thirds) of the practicians use primarily Python for their tasks. \n",
      "\n",
      "Text without punctuation:\n",
      "Data Mining Text Mining and Machine Learning are probably the 3 most interesting subjects to learn in 2021 at the university They utilize supervised and unsupervised algorithms to extract and infer knowledge from the data It is estimated that more than 667  twothirds of the practicians use primarily Python for their tasks \n",
      "\n",
      "Text without numbers:\n",
      "Data Mining, Text Mining, and Machine Learning are probably the  most interesting subjects to learn in  at the university! They utilize supervised and unsupervised algorithms to extract and infer knowledge from the data. It is estimated that more than . % (two-thirds) of the practicians use primarily Python for their tasks. \n",
      "\n",
      "Text with # in the place of numbers:\n",
      "Data Mining, Text Mining, and Machine Learning are probably the # most interesting subjects to learn in #### at the university! They utilize supervised and unsupervised algorithms to extract and infer knowledge from the data. It is estimated that more than ##.# % (two-thirds) of the practicians use primarily Python for their tasks. \n",
      "\n"
     ]
    }
   ],
   "source": [
    "# removing punctuation \n",
    "entry_no_punct = entry.translate(str.maketrans('', '', string.punctuation))\n",
    "\n",
    "# removing numbers\n",
    "entry_no_num = entry\n",
    "for symb in entry_no_num:\n",
    "    if symb.isdigit():\n",
    "        entry_no_num = entry_no_num.replace(symb, '')\n",
    "\n",
    "# replacing numbers with # symbol\n",
    "entry_hash_num = entry\n",
    "for symb in entry_hash_num:\n",
    "    if symb.isdigit():\n",
    "        entry_hash_num = entry_hash_num.replace(symb, '#')\n",
    "        \n",
    "print(\"Original text:\")\n",
    "print(entry, \"\\n\")      \n",
    "\n",
    "print(\"Text without punctuation:\")\n",
    "print(entry_no_punct, \"\\n\")\n",
    "\n",
    "print(\"Text without numbers:\")\n",
    "print(entry_no_num, \"\\n\")\n",
    "\n",
    "print(\"Text with # in the place of numbers:\")\n",
    "print(entry_hash_num, \"\\n\")"
   ]
  },
  {
   "cell_type": "markdown",
   "metadata": {},
   "source": [
    "### 5. Stemming\n",
    "Transforming a word to its root form."
   ]
  },
  {
   "cell_type": "code",
   "execution_count": 6,
   "metadata": {
    "tags": [
     "Stemming"
    ]
   },
   "outputs": [
    {
     "name": "stdout",
     "output_type": "stream",
     "text": [
      "Original text:\n",
      "Data Mining, Text Mining, and Machine Learning are probably the 3 most interesting subjects to learn in 2021 at the university! They utilize supervised and unsupervised algorithms to extract and infer knowledge from the data. It is estimated that more than 66.7 % (two-thirds) of the practicians use primarily Python for their tasks. \n",
      "\n",
      "Stemmed text:\n",
      "data mining, text mining, and machin learn are probabl the 3 most interest subject to learn in 2021 at the university! they util supervis and unsupervis algorithm to extract and infer knowledg from the data. it is estim that more than 66.7 % (two-thirds) of the practician use primarili python for their tasks.\n"
     ]
    }
   ],
   "source": [
    "from nltk.stem import PorterStemmer\n",
    "ps = PorterStemmer()\n",
    "\n",
    "print(\"Original text:\")\n",
    "print(entry, \"\\n\")  \n",
    "\n",
    "# using Porter stemmer to stem our sentence\n",
    "stemmed_entry = ' '.join([ps.stem(w) for w in entry.split()])\n",
    "\n",
    "print(\"Stemmed text:\")\n",
    "print(stemmed_entry)"
   ]
  },
  {
   "cell_type": "markdown",
   "metadata": {},
   "source": [
    "### 6. Lemmatization\n",
    "Unlike stemming, lemmatization reduces the words to a word existing in the language. Unlike stemming, lemmatization reduces the words to a word existing in the language. Lemmatization is preferred over Stemming because lemmatization does a morphological analysis of the words. \n"
   ]
  },
  {
   "cell_type": "code",
   "execution_count": 7,
   "metadata": {
    "tags": [
     "Lemmatization"
    ]
   },
   "outputs": [
    {
     "name": "stdout",
     "output_type": "stream",
     "text": [
      "Original sentence:\n",
      "Data Mining, Text Mining, and Machine Learning are probably the 3 most interesting subjects to learn in 2021 at the university! They utilize supervised and unsupervised algorithms to extract and infer knowledge from the data. It is estimated that more than 66.7 % (two-thirds) of the practicians use primarily Python for their tasks. \n",
      "\n",
      "Data Mining , Text Mining , and Machine Learning are probably the 3 most interesting subject to learn in 2021 at the university ! They utilize supervised and unsupervised algorithm to extract and infer knowledge from the data . It is estimated that more than 66.7 % ( two-thirds ) of the practician use primarily Python for their task .\n"
     ]
    }
   ],
   "source": [
    "from nltk.stem import WordNetLemmatizer \n",
    "\n",
    "print(\"Original sentence:\")\n",
    "print(entry, \"\\n\")  \n",
    "\n",
    "# using WordNet lemmatizer\n",
    "lemmatizer = WordNetLemmatizer()\n",
    "\n",
    "lemmatized_entry = ' '.join([lemmatizer.lemmatize(w) for w in words])\n",
    "print(lemmatized_entry)"
   ]
  },
  {
   "cell_type": "markdown",
   "metadata": {},
   "source": [
    "### 7. Part of speech tagging\n",
    "POS tagging is important for several language-related applications. It associates each token with its respective part of speech. "
   ]
  },
  {
   "cell_type": "code",
   "execution_count": 8,
   "metadata": {
    "tags": [
     "PosTagging"
    ]
   },
   "outputs": [
    {
     "name": "stdout",
     "output_type": "stream",
     "text": [
      "Original text:\n",
      "Data Mining, Text Mining, and Machine Learning are probably the 3 most interesting subjects to learn in 2021 at the university! They utilize supervised and unsupervised algorithms to extract and infer knowledge from the data. It is estimated that more than 66.7 % (two-thirds) of the practicians use primarily Python for their tasks. \n",
      "\n",
      "Tagged text:\n",
      "[('Data', 'NNP'), ('Mining', 'NNP'), (',', ','), ('Text', 'NNP'), ('Mining', 'NNP'), (',', ','), ('and', 'CC'), ('Machine', 'NNP'), ('Learning', 'NNP'), ('are', 'VBP'), ('probably', 'RB'), ('the', 'DT'), ('3', 'CD'), ('most', 'JJS'), ('interesting', 'JJ'), ('subjects', 'NNS'), ('to', 'TO'), ('learn', 'VB'), ('in', 'IN'), ('2021', 'CD'), ('at', 'IN'), ('the', 'DT'), ('university', 'NN'), ('!', '.'), ('They', 'PRP'), ('utilize', 'VBP'), ('supervised', 'JJ'), ('and', 'CC'), ('unsupervised', 'JJ'), ('algorithms', 'NN'), ('to', 'TO'), ('extract', 'VB'), ('and', 'CC'), ('infer', 'VB'), ('knowledge', 'NN'), ('from', 'IN'), ('the', 'DT'), ('data', 'NN'), ('.', '.'), ('It', 'PRP'), ('is', 'VBZ'), ('estimated', 'VBN'), ('that', 'IN'), ('more', 'JJR'), ('than', 'IN'), ('66.7', 'CD'), ('%', 'NN'), ('(', '('), ('two-thirds', 'NNS'), (')', ')'), ('of', 'IN'), ('the', 'DT'), ('practicians', 'NNS'), ('use', 'VBP'), ('primarily', 'RB'), ('Python', 'NNP'), ('for', 'IN'), ('their', 'PRP$'), ('tasks', 'NNS'), ('.', '.')]\n"
     ]
    }
   ],
   "source": [
    "from nltk import pos_tag\n",
    "\n",
    "print(\"Original text:\")\n",
    "print(entry, \"\\n\")  \n",
    "\n",
    "print(\"Tagged text:\")\n",
    "# print the POS tagged list of tokens\n",
    "print(pos_tag(words))"
   ]
  },
  {
   "cell_type": "code",
   "execution_count": null,
   "metadata": {},
   "outputs": [],
   "source": []
  }
 ],
 "metadata": {
  "authors": [
   {
    "name": "ninhu"
   }
  ],
  "celltoolbar": "Tags",
  "kernelspec": {
   "display_name": "Python 3",
   "language": "python",
   "name": "python3"
  },
  "language_info": {
   "codemirror_mode": {
    "name": "ipython",
    "version": 3
   },
   "file_extension": ".py",
   "mimetype": "text/x-python",
   "name": "python",
   "nbconvert_exporter": "python",
   "pygments_lexer": "ipython3",
   "version": "3.8.8"
  }
 },
 "nbformat": 4,
 "nbformat_minor": 2
}
