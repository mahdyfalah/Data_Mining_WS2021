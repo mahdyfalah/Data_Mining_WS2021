{
 "cells": [
  {
   "cell_type": "code",
   "execution_count": 1,
   "id": "24e5b55a",
   "metadata": {},
   "outputs": [],
   "source": [
    "# imports\n",
    "import numpy as np\n",
    "import matplotlib.pyplot as plt\n",
    "from sklearn import svm"
   ]
  },
  {
   "cell_type": "code",
   "execution_count": 7,
   "id": "da8b75f3",
   "metadata": {},
   "outputs": [
    {
     "data": {
      "text/plain": "<Figure size 432x288 with 1 Axes>",
      "image/png": "[encoded data removed]"
     },
     "metadata": {
      "needs_background": "light"
     },
     "output_type": "display_data"
    }
   ],
   "source": [
    "# dataset\n",
    "dataset = np.array([[-1, 4, 1],\n",
    "                   [4, -1, 1],\n",
    "                   [1, -3, -1],\n",
    "                   [1, 1, 1],\n",
    "                   [-3, 3, -1],\n",
    "                   [2, 3, 1],\n",
    "                   [-3, 1, -1]])\n",
    "data_points = dataset[:,0:2]\n",
    "labels = dataset[:,2]\n",
    "\n",
    "plt.scatter(data_points[:,0], data_points[:,1], c=labels)\n",
    "plt.axis('equal')\n",
    "plt.grid(True)\n",
    "plt.show()"
   ]
  },
  {
   "cell_type": "code",
   "execution_count": 8,
   "id": "8a18ca37",
   "metadata": {},
   "outputs": [
    {
     "name": "stdout",
     "output_type": "stream",
     "text": [
      "w: [-1.  4.]\n",
      "w: [3. 3.]\n",
      "w: [6. 0.]\n",
      "w: [5. 4.]\n"
     ]
    },
    {
     "data": {
      "text/plain": "<Figure size 432x288 with 1 Axes>",
      "image/png": "[encoded data removed]"
     },
     "metadata": {
      "needs_background": "light"
     },
     "output_type": "display_data"
    }
   ],
   "source": [
    "# task 1\n",
    "w = perceptron(data_points, labels)\n",
    "\n",
    "# vector w and hyperplane needed info\n",
    "origin = np.array([0, 0])\n",
    "x = np.linspace(-3,3)\n",
    "slope = -1/((w[1]-origin[1])/(w[0]-origin[0]))\n",
    "y = slope*x\n",
    "\n",
    "\n",
    "# plot\n",
    "plt.scatter(data_points[:,0], data_points[:,1], c=labels)\n",
    "plt.quiver(*origin, w[0], w[1], scale=31)\n",
    "plt.plot(x, y)\n",
    "plt.axis('equal')\n",
    "plt.grid(True)\n",
    "plt.show()"
   ]
  },
  {
   "cell_type": "code",
   "execution_count": 9,
   "id": "63a7c52c",
   "metadata": {},
   "outputs": [
    {
     "name": "stdout",
     "output_type": "stream",
     "text": [
      "alpha: [1. 1. 0. 0. 1. 0. 0.]\n"
     ]
    }
   ],
   "source": [
    "# task 2\n",
    "alpha = kernel_perceptron(data_points, labels)\n",
    "\n",
    "print('alpha:', alpha)"
   ]
  },
  {
   "cell_type": "code",
   "execution_count": 10,
   "id": "4a96afdb",
   "metadata": {},
   "outputs": [
    {
     "name": "stdout",
     "output_type": "stream",
     "text": [
      "u: [ 2 -2] label: 1.0\n"
     ]
    }
   ],
   "source": [
    "# task 3\n",
    "u = np.array([2, -2])\n",
    "\n",
    "u_label = kernel_perceptron_predict(data_points, labels, alpha, u)\n",
    "\n",
    "print('u:', u, 'label:', u_label)"
   ]
  },
  {
   "cell_type": "code",
   "execution_count": 11,
   "id": "031fcd94",
   "metadata": {},
   "outputs": [
    {
     "data": {
      "text/plain": "<Figure size 432x288 with 1 Axes>",
      "image/png": "[encoded data removed]"
     },
     "metadata": {
      "needs_background": "light"
     },
     "output_type": "display_data"
    }
   ],
   "source": [
    "# task 4\n",
    "# C is really big for hard margin svm\n",
    "hard_margin_svm = svm.SVC(kernel=\"linear\", C=1e10)\n",
    "hard_margin_svm.fit(data_points, labels)\n",
    "\n",
    "# hyperplane\n",
    "w = hard_margin_svm.coef_[0]\n",
    "slope = -w[0] / w[1]\n",
    "x = np.linspace(-3, 3)\n",
    "y = slope * x - (hard_margin_svm.intercept_[0]) / w[1]\n",
    "\n",
    "# plot\n",
    "plt.scatter(data_points[:,0], data_points[:,1], c=labels)\n",
    "plt.plot(x, y)\n",
    "plt.axis('equal')\n",
    "plt.grid(True)\n",
    "plt.show()"
   ]
  },
  {
   "cell_type": "code",
   "execution_count": 12,
   "id": "8b328656",
   "metadata": {},
   "outputs": [],
   "source": [
    "# perceptroon algorithm\n",
    "def perceptron(data_points, labels):\n",
    "    w = np.zeros(2)\n",
    "    converged = False\n",
    "    while not converged:\n",
    "        counter = 0\n",
    "        for i in range(len(data_points)):\n",
    "            if np.sign(np.dot(w, data_points[i])) != labels[i]:\n",
    "                counter += 1\n",
    "                w = w + (labels[i] * data_points[i])\n",
    "                print('w:', w)\n",
    "            if counter == 0:\n",
    "                converged = True\n",
    "    return w"
   ]
  },
  {
   "cell_type": "code",
   "execution_count": 5,
   "id": "031163e0",
   "metadata": {},
   "outputs": [],
   "source": [
    "# kernel perceptron algorithm \n",
    "def kernel_perceptron(data_points, labels):\n",
    "    \n",
    "    alpha = np.zeros(len(data_points))\n",
    "    \n",
    "    for i in range(len(data_points)):\n",
    "        y = 0\n",
    "        for j in range(len(data_points)):\n",
    "            y += alpha[j] * labels[j] * (np.dot(np.transpose(data_points[j]), data_points[i]))\n",
    "        if np.sign(y) != labels[i]:\n",
    "            alpha[i] += 1\n",
    "            \n",
    "    return alpha"
   ]
  },
  {
   "cell_type": "code",
   "execution_count": 6,
   "id": "d299904f",
   "metadata": {
    "pycharm": {
     "name": "#%%\n"
    }
   },
   "outputs": [],
   "source": [
    "# kernel perceptron predict\n",
    "def kernel_perceptron_predict(data_points, labels, alpha, point):\n",
    "    y = 0\n",
    "    \n",
    "    for i in range(len(data_points)):\n",
    "        y += alpha[i] * labels[i] * (np.dot(np.transpose(data_points[i]), point))\n",
    "            \n",
    "    return np.sign(y)"
   ]
  }
 ],
 "metadata": {
  "kernelspec": {
   "display_name": "Python 3",
   "language": "python",
   "name": "python3"
  },
  "language_info": {
   "codemirror_mode": {
    "name": "ipython",
    "version": 3
   },
   "file_extension": ".py",
   "mimetype": "text/x-python",
   "name": "python",
   "nbconvert_exporter": "python",
   "pygments_lexer": "ipython3",
   "version": "3.8.8"
  }
 },
 "nbformat": 4,
 "nbformat_minor": 5
}