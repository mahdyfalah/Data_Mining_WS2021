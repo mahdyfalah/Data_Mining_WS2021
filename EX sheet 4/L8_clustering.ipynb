{
 "cells": [
  {
   "cell_type": "markdown",
   "metadata": {},
   "source": [
    "# Clutering Example"
   ]
  },
  {
   "cell_type": "code",
   "execution_count": 2,
   "metadata": {},
   "outputs": [
    {
     "name": "stdout",
     "output_type": "stream",
     "text": [
      "there were a king with a large jaw and a queen with a plain face on the throne of england there were a king with a large jaw and a queen with a fair face on the throne of france\n",
      "in both countries it was clearer than crystal to the lords of the state preserves of loaves and fishes that things in general were settled for ever\n",
      "it was the year of our lord one thousand seven hundred and seventyfive\n",
      "spiritual revelations were conceded to england at that favoured period as at this\n",
      "mrs southcott had recently attained her fiveandtwentieth blessed birthday of whom a prophetic private in the life guards had heralded the sublime appearance by announcing that arrangements were made for the swallowing up of london and westminster\n",
      "even the cocklane ghost had been laid only a round dozen of years after rapping out its messages as the spirits of this very year last past supernaturally deficient in originality rapped out theirs\n",
      "mere messages in the earthly order of events had lately come to the english crown and people from a congress of british subjects in america which strange to relate have proved more important to the human race than any communications yet received through any of the chickens of the cocklane brood\n",
      "france less favoured on the whole as to matters spiritual than her sister of the shield and trident rolled with exceeding smoothness down hill making paper money and spending it\n",
      "under the guidance of her christian pastors she entertained herself besides with such humane achievements as sentencing a youth to have his hands cut off his tongue torn out with pincers and his body burned alive because he had not kneeled down in the rain to do honour to a dirty procession of monks which passed within his view at a distance of some fifty or sixty yards\n",
      "it is likely enough that rooted in the woods of france and norway there were growing trees when that sufferer was put to death already marked by the woodman fate to come down and be sawn into boards to make a certain movable framework with a sack and a knife in it terrible in history\n",
      "it is likely enough that in the rough outhouses of some tillers of the heavy lands adjacent to paris there were sheltered from the weather that very day rude carts bespattered with rustic mire snuffed about by pigs and roosted in by poultry which the farmer death had already set apart to be his tumbrils of the revolution\n",
      "but that woodman and that farmer though they work unceasingly work silently and no one heard them as they went about with muffled tread the rather forasmuch as to entertain any suspicion that they were awake was to be atheistical and traitorous\n",
      "\n",
      "\n"
     ]
    }
   ],
   "source": [
    "import string, nltk\n",
    "from nltk.tokenize import word_tokenize\n",
    "from sklearn.feature_extraction.text import CountVectorizer, TfidfTransformer\n",
    "from sklearn.cluster import KMeans\n",
    "import pandas as pd\n",
    "\n",
    "collection = [\n",
    "   \"There were a king with a large jaw and a queen with a plain face, on the throne of England; there were a king with a large jaw and a queen with a fair face, on the throne of France.\",\n",
    "    \"In both countries it was clearer than crystal to the lords of the State preserves of loaves and fishes, that things in general were settled for ever.\",\n",
    "    \"It was the year of Our Lord one thousand seven hundred and seventy-five.\",\n",
    "    \"Spiritual revelations were conceded to England at that favoured period, as at this.\",\n",
    "    \"Mrs. Southcott had recently attained her five-and-twentieth blessed birthday, of whom a prophetic private in the Life Guards had heralded the sublime appearance by announcing that arrangements were made for the swallowing up of London and Westminster.\",\n",
    "    \"Even the Cock-lane ghost had been laid only a round dozen of years, after rapping out its messages, as the spirits of this very year last past (supernaturally deficient in originality) rapped out theirs.\", \n",
    "    \"Mere messages in the earthly order of events had lately come to the English Crown and People, from a congress of British subjects in America: which, strange to relate, have proved more important to the human race than any communications yet received through any of the chickens of the Cock-lane brood.\",\n",
    "    \"France, less favoured on the whole as to matters spiritual than her sister of the shield and trident, rolled with exceeding smoothness down hill, making paper money and spending it.\",\n",
    "    \"Under the guidance of her Christian pastors, she entertained herself, besides, with such humane achievements as sentencing a youth to have his hands cut off, his tongue torn out with pincers, and his body burned alive, because he had not kneeled down in the rain to do honour to a dirty procession of monks which passed within his view, at a distance of some fifty or sixty yards.\",\n",
    "    \"It is likely enough that, rooted in the woods of France and Norway, there were growing trees, when that sufferer was put to death, already marked by the Woodman, Fate, to come down and be sawn into boards, to make a certain movable framework with a sack and a knife in it, terrible in history.\",\n",
    "    \"It is likely enough that in the rough outhouses of some tillers of the heavy lands adjacent to Paris, there were sheltered from the weather that very day, rude carts, bespattered with rustic mire, snuffed about by pigs, and roosted in by poultry, which the Farmer, Death, had already set apart to be his tumbrils of the Revolution.\",\n",
    "    \"But that Woodman and that Farmer, though they work unceasingly, work silently, and no one heard them as they went about with muffled tread: the rather, forasmuch as to entertain any suspicion that they were awake, was to be atheistical and traitorous.\",\n",
    "]\n",
    "\n",
    "# removing punctuation\n",
    "coll_nopunct = [sent.translate(str.maketrans('', '', string.punctuation)) for sent in collection]\n",
    "\n",
    "# lowercasing \n",
    "coll_lower = [sent.lower() for sent in coll_nopunct]\n",
    "\n",
    "# tokenizing\n",
    "coll_ready = [' '.join(word_tokenize(sent)) for sent in coll_lower]\n",
    "\n",
    "# show the preprocessed collection matrix\n",
    "for sentence in coll_ready:\n",
    "    print(sentence)\n",
    "print(\"\\n\")"
   ]
  },
  {
   "cell_type": "code",
   "execution_count": 3,
   "metadata": {},
   "outputs": [
    {
     "name": "stdout",
     "output_type": "stream",
     "text": [
      "Collection vocabulary:\n",
      " ['about', 'achievements', 'adjacent', 'after', 'alive', 'already', 'america', 'and', 'announcing', 'any', 'apart', 'appearance', 'arrangements', 'as', 'at', 'atheistical', 'attained', 'awake', 'be', 'because', 'been', 'besides', 'bespattered', 'birthday', 'blessed', 'boards', 'body', 'both', 'british', 'brood', 'burned', 'but', 'by', 'carts', 'certain', 'chickens', 'christian', 'clearer', 'cocklane', 'come', 'communications', 'conceded', 'congress', 'countries', 'crown', 'crystal', 'cut', 'day', 'death', 'deficient', 'dirty', 'distance', 'do', 'down', 'dozen', 'earthly', 'england', 'english', 'enough', 'entertain', 'entertained', 'even', 'events', 'ever', 'exceeding', 'face', 'fair', 'farmer', 'fate', 'favoured', 'fifty', 'fishes', 'fiveandtwentieth', 'for', 'forasmuch', 'framework', 'france', 'from', 'general', 'ghost', 'growing', 'guards', 'guidance', 'had', 'hands', 'have', 'he', 'heard', 'heavy', 'her', 'heralded', 'herself', 'hill', 'his', 'history', 'honour', 'human', 'humane', 'hundred', 'important', 'in', 'into', 'is', 'it', 'its', 'jaw', 'king', 'kneeled', 'knife', 'laid', 'lands', 'large', 'last', 'lately', 'less', 'life', 'likely', 'loaves', 'london', 'lord', 'lords', 'made', 'make', 'making', 'marked', 'matters', 'mere', 'messages', 'mire', 'money', 'monks', 'more', 'movable', 'mrs', 'muffled', 'no', 'norway', 'not', 'of', 'off', 'on', 'one', 'only', 'or', 'order', 'originality', 'our', 'out', 'outhouses', 'paper', 'paris', 'passed', 'past', 'pastors', 'people', 'period', 'pigs', 'pincers', 'plain', 'poultry', 'preserves', 'private', 'procession', 'prophetic', 'proved', 'put', 'queen', 'race', 'rain', 'rapped', 'rapping', 'rather', 'received', 'recently', 'relate', 'revelations', 'revolution', 'rolled', 'roosted', 'rooted', 'rough', 'round', 'rude', 'rustic', 'sack', 'sawn', 'sentencing', 'set', 'settled', 'seven', 'seventyfive', 'she', 'sheltered', 'shield', 'silently', 'sister', 'sixty', 'smoothness', 'snuffed', 'some', 'southcott', 'spending', 'spirits', 'spiritual', 'state', 'strange', 'subjects', 'sublime', 'such', 'sufferer', 'supernaturally', 'suspicion', 'swallowing', 'terrible', 'than', 'that', 'the', 'theirs', 'them', 'there', 'they', 'things', 'this', 'though', 'thousand', 'throne', 'through', 'tillers', 'to', 'tongue', 'torn', 'traitorous', 'tread', 'trees', 'trident', 'tumbrils', 'unceasingly', 'under', 'up', 'very', 'view', 'was', 'weather', 'went', 'were', 'westminster', 'when', 'which', 'whole', 'whom', 'with', 'within', 'woodman', 'woods', 'work', 'yards', 'year', 'years', 'yet', 'youth'] \n",
      "\n",
      "Collection vocabulary size:  260  terms.\n",
      "\n"
     ]
    }
   ],
   "source": [
    "# printing the collection vocabulary\n",
    "vec_count = CountVectorizer()\n",
    "X_count = vec_count.fit_transform(coll_ready)\n",
    "print(\"Collection vocabulary:\\n\", vec_count.get_feature_names(), \"\\n\")\n",
    "print(\"Collection vocabulary size: \", len(vec_count.get_feature_names()), \" terms.\\n\")"
   ]
  },
  {
   "cell_type": "code",
   "execution_count": 6,
   "metadata": {},
   "outputs": [
    {
     "name": "stdout",
     "output_type": "stream",
     "text": [
      "Term frequency - inverse document frequency vectorizer matrix:\n",
      " [[0.         0.         0.         ... 0.         0.         0.        ]\n",
      " [0.         0.         0.         ... 0.         0.         0.        ]\n",
      " [0.         0.         0.         ... 0.         0.         0.        ]\n",
      " ...\n",
      " [0.         0.         0.         ... 0.         0.         0.        ]\n",
      " [0.12812925 0.         0.14919366 ... 0.         0.         0.        ]\n",
      " [0.13215149 0.         0.         ... 0.         0.         0.        ]]\n"
     ]
    },
    {
     "data": {
      "text/plain": [
       "(12, 260)"
      ]
     },
     "execution_count": 6,
     "metadata": {},
     "output_type": "execute_result"
    }
   ],
   "source": [
    "# printing tf vectorizer matrix\n",
    "X_tf = vec_count.fit_transform(coll_ready)\n",
    "\n",
    "# printing tf-idf vectorizer matrix\n",
    "vec_tfidf = TfidfTransformer()\n",
    "X_tfidf = vec_tfidf.fit_transform(X_tf)\n",
    "print(\"Term frequency - inverse document frequency vectorizer matrix:\\n\", X_tfidf.toarray())\n",
    "X_tfidf.shape"
   ]
  },
  {
   "cell_type": "code",
   "execution_count": 5,
   "metadata": {},
   "outputs": [
    {
     "name": "stdout",
     "output_type": "stream",
     "text": [
      "                                             sentence  cluster\n",
      "5   Even the Cock-lane ghost had been laid only a ...        0\n",
      "6   Mere messages in the earthly order of events h...        0\n",
      "8   Under the guidance of her Christian pastors, s...        0\n",
      "1   In both countries it was clearer than crystal ...        1\n",
      "9   It is likely enough that, rooted in the woods ...        1\n",
      "10  It is likely enough that in the rough outhouse...        1\n",
      "11  But that Woodman and that Farmer, though they ...        1\n",
      "3   Spiritual revelations were conceded to England...        2\n",
      "0   There were a king with a large jaw and a queen...        3\n",
      "7   France, less favoured on the whole as to matte...        3\n",
      "2   It was the year of Our Lord one thousand seven...        4\n",
      "4   Mrs. Southcott had recently attained her five-...        5\n"
     ]
    }
   ],
   "source": [
    "# create the clusters with k-means\n",
    "n_cl = 6\n",
    "model = KMeans(n_clusters=n_cl).fit(X_tfidf)\n",
    "labels = model.labels_\n",
    "sent_cl = pd.DataFrame(list(zip(collection,labels)),columns=['sentence', 'cluster'])\n",
    "print(sent_cl.sort_values(by=['cluster']))"
   ]
  },
  {
   "cell_type": "code",
   "execution_count": null,
   "metadata": {},
   "outputs": [],
   "source": []
  }
 ],
 "metadata": {
  "authors": [
   {
    "name": "ninhu"
   }
  ],
  "celltoolbar": "Tags",
  "kernelspec": {
   "display_name": "Python 3",
   "language": "python",
   "name": "python3"
  },
  "language_info": {
   "codemirror_mode": {
    "name": "ipython",
    "version": 3
   },
   "file_extension": ".py",
   "mimetype": "text/x-python",
   "name": "python",
   "nbconvert_exporter": "python",
   "pygments_lexer": "ipython3",
   "version": "3.8.8"
  }
 },
 "nbformat": 4,
 "nbformat_minor": 2
}
