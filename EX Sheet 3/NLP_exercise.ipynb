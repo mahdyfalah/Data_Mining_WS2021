{
 "cells": [
  {
   "cell_type": "code",
   "execution_count": 1,
   "id": "8d010c9f",
   "metadata": {},
   "outputs": [],
   "source": [
    "import string, nltk\n",
    "from nltk.stem import PorterStemmer, WordNetLemmatizer \n",
    "from nltk.tokenize import word_tokenize"
   ]
  },
  {
   "cell_type": "code",
   "execution_count": 2,
   "id": "d71b080b",
   "metadata": {},
   "outputs": [],
   "source": [
    "# Question 10:\n",
    "def simple_tokenizer(text):\n",
    "    return ' '.join(word_tokenize(text))"
   ]
  },
  {
   "cell_type": "code",
   "execution_count": 3,
   "id": "a8e6c94c",
   "metadata": {},
   "outputs": [
    {
     "name": "stdout",
     "output_type": "stream",
     "text": [
      "Original text: I wrote the entire simple_tokenizer from scratch without any libraries, because it seemed reasonable, because with nltk. tokenize it would have just been a few lines, like shown in the lecture and it was pretty quick to do it from scratch. Now for the 11. task: Can we use the nltk library to create the word_list, stem_list and lemma_list, like shown in the lecture or do we have to implement them all from scratch?I know it says Import and use existing libraries if necessary, I am just not sure about the extent of which we can use them.\n",
      "Simple tokenizer: I wrote the entire simple_tokenizer from scratch without any libraries , because it seemed reasonable , because with nltk . tokenize it would have just been a few lines , like shown in the lecture and it was pretty quick to do it from scratch . Now for the 11. task : Can we use the nltk library to create the word_list , stem_list and lemma_list , like shown in the lecture or do we have to implement them all from scratch ? I know it says Import and use existing libraries if necessary , I am just not sure about the extent of which we can use them .\n"
     ]
    }
   ],
   "source": [
    "text = \"I wrote the entire simple_tokenizer from scratch without any libraries, because it seemed reasonable, because with nltk. tokenize it would have just been a few lines, like shown in the lecture and it was pretty quick to do it from scratch. Now for the 11. task: Can we use the nltk library to create the word_list, stem_list and lemma_list, like shown in the lecture or do we have to implement them all from scratch?I know it says Import and use existing libraries if necessary, I am just not sure about the extent of which we can use them.\"\n",
    "print(\"Original text:\", text)\n",
    "print(\"Simple tokenizer:\", simple_tokenizer(text))"
   ]
  },
  {
   "cell_type": "code",
   "execution_count": 4,
   "id": "9844b67e",
   "metadata": {},
   "outputs": [],
   "source": [
    "# Question 11:\n",
    "def stem_lemm(text):\n",
    "#     removing punctuation since only alphanumeric characters pust be stored\n",
    "#     and lower casing\n",
    "    text = text.translate(str.maketrans('', '', string.punctuation))\n",
    "    text = text.lower()\n",
    "#     word level tokenizing\n",
    "    word_list = word_tokenize(text)\n",
    "    \n",
    "#     stemming\n",
    "    ps = PorterStemmer()\n",
    "    stem_list = [ps.stem(w) for w in word_list]\n",
    "    \n",
    "#     lammatization\n",
    "    lemmatizer = WordNetLemmatizer()\n",
    "    lemma_list = [lemmatizer.lemmatize(w) for w in word_list]\n",
    "\n",
    "#     joins\n",
    "    stem_string = ' '.join(stem_list)\n",
    "    lemma_string = ' '.join(lemma_list)\n",
    "    \n",
    "    return stem_string, lemma_string"
   ]
  },
  {
   "cell_type": "code",
   "execution_count": 5,
   "id": "d44cd5f3",
   "metadata": {},
   "outputs": [
    {
     "name": "stdout",
     "output_type": "stream",
     "text": [
      "length of stemmed string: 495\n",
      "length of lemmatized string: 517\n"
     ]
    }
   ],
   "source": [
    "stem_string, lemma_string = stem_lemm(text)\n",
    "print(\"length of stemmed string:\", len(stem_string))\n",
    "print(\"length of lemmatized string:\", len(lemma_string))"
   ]
  },
  {
   "cell_type": "code",
   "execution_count": null,
   "id": "6267156b",
   "metadata": {},
   "outputs": [],
   "source": []
  }
 ],
 "metadata": {
  "kernelspec": {
   "display_name": "Python 3",
   "language": "python",
   "name": "python3"
  },
  "language_info": {
   "codemirror_mode": {
    "name": "ipython",
    "version": 3
   },
   "file_extension": ".py",
   "mimetype": "text/x-python",
   "name": "python",
   "nbconvert_exporter": "python",
   "pygments_lexer": "ipython3",
   "version": "3.8.8"
  }
 },
 "nbformat": 4,
 "nbformat_minor": 5
}
