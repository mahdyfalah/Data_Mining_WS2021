{
 "cells": [
  {
   "cell_type": "code",
   "execution_count": 1,
   "metadata": {},
   "outputs": [],
   "source": [
    "# learn material:\n",
    "# DM-3-HDData.ClusteringHighDimensionalDataPart1.pdf , page 70-75\n",
    "# https://blog.xa0.de/post/PreDeCon%20---%20Density-based-Projected-Subspace-Clustering/#fn:predecon\n",
    "import numpy as np\n",
    "\n",
    "Points = np.array([\n",
    "    [1, 1],  # A \n",
    "    [1, 2],  # B\n",
    "    [2, 2],  # C\n",
    "    [2, 1],  # D\n",
    "    [3, 1],  # E\n",
    "    [4, 1],  # F\n",
    "    [4, 2],  # G\n",
    "    [5, 1],  # H\n",
    "    [5, 2],  # I\n",
    "    [5, 3],  # J\n",
    "    [5, 0],  # K\n",
    "    [6, 1]   # L\n",
    "])\n",
    "\n",
    "minpts = 4\n",
    "eps = 1\n",
    "delta = 0.3\n",
    "lmbda = 1\n",
    "k = 100"
   ]
  },
  {
   "cell_type": "code",
   "execution_count": 2,
   "metadata": {},
   "outputs": [],
   "source": [
    "# calculate list of euclidean neighbors\n",
    "def euclidean_neighbor(candidate):\n",
    "    euclidean_neighbors = []\n",
    "    for pt in Points:\n",
    "        euclidean_distance = np.linalg.norm(pt - candidate)\n",
    "        if euclidean_distance <= eps:\n",
    "            euclidean_neighbors.append(pt)\n",
    "    return euclidean_neighbors"
   ]
  },
  {
   "cell_type": "code",
   "execution_count": 3,
   "metadata": {},
   "outputs": [],
   "source": [
    "# Wp\n",
    "# page 71\n",
    "def subspace_prefrence_vector(candidate):  \n",
    "    distance_projection_x = []\n",
    "    distance_projection_y = []\n",
    "     \n",
    "    for neighbor in euclidean_neighbor(candidate):\n",
    "        distance_projection_x.append(np.linalg.norm(neighbor[0] - candidate[0]))\n",
    "        distance_projection_y.append(np.linalg.norm(neighbor[1] - candidate[1]))\n",
    "        \n",
    "    var_x = sum(distance_projection_x) / len(distance_projection_x)\n",
    "    var_y = sum(distance_projection_y) / len(distance_projection_y)\n",
    "    \n",
    "    if var_x > delta:\n",
    "        w_x = 1\n",
    "    else:\n",
    "        w_x = k\n",
    "            \n",
    "    if var_y > delta:\n",
    "        w_y = 1\n",
    "    else:\n",
    "        w_y = k\n",
    "\n",
    "    return w_x, w_y"
   ]
  },
  {
   "cell_type": "code",
   "execution_count": 4,
   "metadata": {},
   "outputs": [],
   "source": [
    "# page 72\n",
    "def pref_weighted_dist(neighbor, candidate):    \n",
    "    weights = subspace_prefrence_vector(neighbor)\n",
    "    distance = ((weights[0] * np.linalg.norm(neighbor[0] - candidate[0])) + (weights[1] * np.linalg.norm(neighbor[1] - candidate[1])))  ** .5\n",
    "    \n",
    "    return distance"
   ]
  },
  {
   "cell_type": "code",
   "execution_count": 5,
   "metadata": {},
   "outputs": [],
   "source": [
    "# page 74-75\n",
    "def is_core(candidate):\n",
    "    preferred_epsilon_neighborhood = []\n",
    "    for neighbor in euclidean_neighbor(candidate):\n",
    "        # Preferred Distance\n",
    "        dist = max(\n",
    "            pref_weighted_dist(neighbor, candidate),\n",
    "            pref_weighted_dist(candidate, neighbor)\n",
    "        )\n",
    "        if dist <= eps:\n",
    "            preferred_epsilon_neighborhood.append(dist)\n",
    "    return len(preferred_epsilon_neighborhood) >= minpts"
   ]
  },
  {
   "cell_type": "code",
   "execution_count": 6,
   "metadata": {},
   "outputs": [
    {
     "name": "stdout",
     "output_type": "stream",
     "text": [
      "D: [array([1, 1]), array([2, 2]), array([2, 1]), array([3, 1])]\n",
      "H: [array([4, 1]), array([5, 1]), array([5, 2]), array([5, 0]), array([6, 1])]\n"
     ]
    }
   ],
   "source": [
    "print('D:', euclidean_neighbor(Points[3])) # D\n",
    "print('H:', euclidean_neighbor(Points[7])) # H"
   ]
  },
  {
   "cell_type": "code",
   "execution_count": 7,
   "metadata": {},
   "outputs": [
    {
     "name": "stdout",
     "output_type": "stream",
     "text": [
      "D False\n",
      "H True\n"
     ]
    }
   ],
   "source": [
    "print('D', is_core(Points[3]))\n",
    "print('H', is_core(Points[7]))"
   ]
  },
  {
   "cell_type": "code",
   "execution_count": null,
   "metadata": {},
   "outputs": [],
   "source": []
  }
 ],
 "metadata": {
  "kernelspec": {
   "display_name": "Python 3",
   "language": "python",
   "name": "python3"
  },
  "language_info": {
   "codemirror_mode": {
    "name": "ipython",
    "version": 3
   },
   "file_extension": ".py",
   "mimetype": "text/x-python",
   "name": "python",
   "nbconvert_exporter": "python",
   "pygments_lexer": "ipython3",
   "version": "3.8.5"
  }
 },
 "nbformat": 4,
 "nbformat_minor": 4
}
