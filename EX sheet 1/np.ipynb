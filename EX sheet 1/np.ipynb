{
 "cells": [
  {
   "cell_type": "code",
   "execution_count": 1,
   "metadata": {},
   "outputs": [],
   "source": [
    "import numpy as np\n",
    "\n",
    "#Initialize arrays\n",
    "\n",
    "#3x5 Array of incremental elements from 1 to 15\n",
    "M1 = np.arange(1,16).reshape(3,5)\n",
    "\n",
    "\n",
    "#5x3 Array of incremental elements from 1 to 15\n",
    "M2 = np.arange(1,16).reshape(5,3)"
   ]
  },
  {
   "cell_type": "code",
   "execution_count": 13,
   "metadata": {},
   "outputs": [
    {
     "name": "stdout",
     "output_type": "stream",
     "text": [
      "M1 :\n",
      " [[ 1  2  3  4  5]\n",
      " [ 6  7  8  9 10]\n",
      " [11 12 13 14 15]]\n",
      "M2 :\n",
      " [[ 1  2  3]\n",
      " [ 4  5  6]\n",
      " [ 7  8  9]\n",
      " [10 11 12]\n",
      " [13 14 15]]\n",
      "M2':\n",
      " [[ 1  4  7 10 13]\n",
      " [ 2  5  8 11 14]\n",
      " [ 3  6  9 12 15]]\n",
      "M1+M2' :\n",
      " [[ 2  6 10 14 18]\n",
      " [ 8 12 16 20 24]\n",
      " [14 18 22 26 30]]\n",
      "M1xM2 :\n",
      " [[135 150 165]\n",
      " [310 350 390]\n",
      " [485 550 615]]\n",
      "M2xM2' :\n",
      " [[ 14  32  50  68  86]\n",
      " [ 32  77 122 167 212]\n",
      " [ 50 122 194 266 338]\n",
      " [ 68 167 266 365 464]\n",
      " [ 86 212 338 464 590]]\n",
      "M1+1 :\n",
      " [[ 2  3  4  5  6]\n",
      " [ 7  8  9 10 11]\n",
      " [12 13 14 15 16]]\n",
      "M1*2 :\n",
      " [[ 2  4  6  8 10]\n",
      " [12 14 16 18 20]\n",
      " [22 24 26 28 30]]\n"
     ]
    }
   ],
   "source": [
    "#12\n",
    "M2t = np.transpose(M2)\n",
    "add = np.add(M1,M2t)\n",
    "mult1 = np.matmul(M1,M2)\n",
    "mult2 = np.matmul(M2,M2t)\n",
    "scalar_add = M1+1\n",
    "scalar_mult = M1*2\n",
    "\n",
    "print(\"M1 :\\n\",M1)\n",
    "print(\"M2 :\\n\",M2)\n",
    "print(\"M2':\\n\",M2t)\n",
    "print(\"M1+M2' :\\n\",add)\n",
    "print(\"M1xM2 :\\n\",mult1)\n",
    "print(\"M2xM2' :\\n\",mult2)\n",
    "print(\"M1+1 :\\n\",scalar_add)\n",
    "print(\"M1*2 :\\n\",scalar_mult)"
   ]
  },
  {
   "cell_type": "code",
   "execution_count": 14,
   "metadata": {},
   "outputs": [
    {
     "name": "stdout",
     "output_type": "stream",
     "text": [
      "M2's 2nd column :\n",
      " [[ 2]\n",
      " [ 5]\n",
      " [ 8]\n",
      " [11]\n",
      " [14]]\n",
      "M2's 1st row :\n",
      " [1 2 3]\n",
      "M2's upper left 2x2 :\n",
      " [[1 2]\n",
      " [4 5]]\n",
      "new reshape :\n",
      " [ 2  5  8 11 14  1  2  3  1  2  4  5]\n"
     ]
    }
   ],
   "source": [
    "#13\n",
    "M2_2column = M2[:,[1]]\n",
    "print(\"M2's 2nd column :\\n\",M2_2column)\n",
    "\n",
    "M2_1row = M2[0,:]\n",
    "print(\"M2's 1st row :\\n\",M2_1row)\n",
    "\n",
    "M2_2x2 = M2[:2, :2]\n",
    "print(\"M2's upper left 2x2 :\\n\",M2_2x2)\n",
    "\n",
    "M2_reshape = np.concatenate((np.reshape(M2_2column,(1,5)), M2_1row, np.reshape(M2_2x2,(1,4))),axis=None)\n",
    "print(\"new reshape :\\n\",M2_reshape)"
   ]
  },
  {
   "cell_type": "code",
   "execution_count": 15,
   "metadata": {},
   "outputs": [
    {
     "name": "stdout",
     "output_type": "stream",
     "text": [
      "[ 2  5  8 11 14  1  2  3  1  2  4  5]\n"
     ]
    }
   ],
   "source": [
    "#test\n",
    "temp = np.concatenate((np.reshape(M2_2column,(1,5)), M2_1row, np.reshape(M2_2x2,(1,4))),axis=None)\n",
    "\n",
    "print(temp)"
   ]
  },
  {
   "cell_type": "code",
   "execution_count": null,
   "metadata": {},
   "outputs": [],
   "source": []
  }
 ],
 "metadata": {
  "kernelspec": {
   "display_name": "Python 3",
   "language": "python",
   "name": "python3"
  },
  "language_info": {
   "codemirror_mode": {
    "name": "ipython",
    "version": 3
   },
   "file_extension": ".py",
   "mimetype": "text/x-python",
   "name": "python",
   "nbconvert_exporter": "python",
   "pygments_lexer": "ipython3",
   "version": "3.8.5"
  }
 },
 "nbformat": 4,
 "nbformat_minor": 4
}
